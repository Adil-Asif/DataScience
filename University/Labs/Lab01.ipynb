{
  "nbformat": 4,
  "nbformat_minor": 0,
  "metadata": {
    "kernelspec": {
      "display_name": "Python 3",
      "language": "python",
      "name": "python3"
    },
    "language_info": {
      "codemirror_mode": {
        "name": "ipython",
        "version": 3
      },
      "file_extension": ".py",
      "mimetype": "text/x-python",
      "name": "python",
      "nbconvert_exporter": "python",
      "pygments_lexer": "ipython3",
      "version": "3.6.1"
    },
    "colab": {
      "name": "Lab01.ipynb",
      "provenance": [],
      "include_colab_link": true
    }
  },
  "cells": [
    {
      "cell_type": "markdown",
      "metadata": {
        "id": "view-in-github",
        "colab_type": "text"
      },
      "source": [
        "<a href=\"https://colab.research.google.com/github/Adil-Asif/DataScience/blob/main/University/Labs/Lab01.ipynb\" target=\"_parent\"><img src=\"https://colab.research.google.com/assets/colab-badge.svg\" alt=\"Open In Colab\"/></a>"
      ]
    },
    {
      "cell_type": "markdown",
      "metadata": {
        "id": "EE40clVNUW0w"
      },
      "source": [
        "#QUESTION 1\n",
        "Go through Python tutorial https://docs.python.org/3/tutorial/. Specially focus on List /\n",
        "Input Output"
      ]
    },
    {
      "cell_type": "markdown",
      "metadata": {
        "id": "mbZo76M-UESP"
      },
      "source": [
        "# Question 2"
      ]
    },
    {
      "cell_type": "code",
      "metadata": {
        "collapsed": true,
        "id": "0OhEenJrUESk"
      },
      "source": [
        "import math"
      ],
      "execution_count": null,
      "outputs": []
    },
    {
      "cell_type": "code",
      "metadata": {
        "id": "FyjcxG2FUESl",
        "outputId": "a3ce7f78-bdd3-4f06-dc90-a1043c573fcc"
      },
      "source": [
        "a = int(input(\"Enter a: \"))\n",
        "b = int(input(\"Enter b: \"))\n",
        "c = int(input(\"Enter c: \"))"
      ],
      "execution_count": null,
      "outputs": [
        {
          "output_type": "stream",
          "text": [
            "Enter a: 2\n",
            "Enter b: 5\n",
            "Enter c: -3\n"
          ],
          "name": "stdout"
        }
      ]
    },
    {
      "cell_type": "code",
      "metadata": {
        "id": "0CFER4sVUESn",
        "outputId": "feac8dce-a079-469e-fac1-40e8ee82307f"
      },
      "source": [
        "d = b**2 - 4*a*c\n",
        "print(d)"
      ],
      "execution_count": null,
      "outputs": [
        {
          "output_type": "stream",
          "text": [
            "49\n"
          ],
          "name": "stdout"
        }
      ]
    },
    {
      "cell_type": "code",
      "metadata": {
        "id": "aysJTaNFUESo",
        "outputId": "222699bd-50a9-4f3f-d642-28a4a5f5c7a7"
      },
      "source": [
        "if d > 0:\n",
        "    x1 = ((-1*b)+math.sqrt(d))/(2*a)\n",
        "    x2 = ((-1*b)-math.sqrt(d))/(2*a)\n",
        "    print(x1)\n",
        "    print(x2)\n",
        "elif d == 0:\n",
        "    x = (-1*b)/(2*a)\n",
        "    print(x)\n",
        "else:\n",
        "    print(\"Only complex roots\")"
      ],
      "execution_count": null,
      "outputs": [
        {
          "output_type": "stream",
          "text": [
            "0.5\n",
            "-3.0\n"
          ],
          "name": "stdout"
        }
      ]
    },
    {
      "cell_type": "markdown",
      "metadata": {
        "id": "6AMrzUZ9UESp"
      },
      "source": [
        "# Question 3"
      ]
    },
    {
      "cell_type": "code",
      "metadata": {
        "id": "dw9vmIy2UESp",
        "outputId": "36e20514-fcfd-4f3c-b3eb-5b6a48478c3f"
      },
      "source": [
        "def smaller(x,s,n):\n",
        "    for i in range(0,s):\n",
        "        if x[i]<n :\n",
        "            print(x[i],'<',n)\n",
        "x = [13,56,21,45,20,43,12,43,6]\n",
        "smaller(x,9,21)\n",
        "    "
      ],
      "execution_count": null,
      "outputs": [
        {
          "output_type": "stream",
          "text": [
            "13 < 21\n",
            "20 < 21\n",
            "12 < 21\n",
            "6 < 21\n"
          ],
          "name": "stdout"
        }
      ]
    },
    {
      "cell_type": "markdown",
      "metadata": {
        "id": "j_5rzlqwUiFn"
      },
      "source": [
        "#Question 4"
      ]
    },
    {
      "cell_type": "code",
      "metadata": {
        "id": "igUfYQ-XUn40",
        "outputId": "e4a37053-1cca-4df1-9d7d-782d0d658f82",
        "colab": {
          "base_uri": "https://localhost:8080/"
        }
      },
      "source": [
        "list1 = [12,24,35,24,88,120,155,88,120,155]\n",
        "list1.reverse()\n",
        "list2 = set(list1) #set stores numbers in random order\n",
        "print(list2)"
      ],
      "execution_count": 22,
      "outputs": [
        {
          "output_type": "stream",
          "text": [
            "{35, 155, 12, 120, 24, 88}\n"
          ],
          "name": "stdout"
        }
      ]
    },
    {
      "cell_type": "markdown",
      "metadata": {
        "id": "2Fgu54lzYMVD"
      },
      "source": [
        "#Question 5"
      ]
    },
    {
      "cell_type": "code",
      "metadata": {
        "id": "NPfq25Q0Zx6h",
        "outputId": "9e36132a-5692-41bc-d5bc-b5112bcfd666",
        "colab": {
          "base_uri": "https://localhost:8080/"
        }
      },
      "source": [
        "list1 = [1,3,6,78,35,55]\n",
        "list2 = [12,24,35,24,88,120,155]  \n",
        "set1= set(list1) & set(list2)\n",
        "print(set1)"
      ],
      "execution_count": 31,
      "outputs": [
        {
          "output_type": "stream",
          "text": [
            "{35}\n"
          ],
          "name": "stdout"
        }
      ]
    },
    {
      "cell_type": "markdown",
      "metadata": {
        "id": "OuhJTDCJZ_KB"
      },
      "source": [
        "#Question 6"
      ]
    },
    {
      "cell_type": "code",
      "metadata": {
        "id": "c5nTUQ-naCOL",
        "outputId": "eab7f7ad-6c64-4987-94e6-0c97d5923a8a",
        "colab": {
          "base_uri": "https://localhost:8080/"
        }
      },
      "source": [
        "height = int(input(\"Enter height: \"))\n",
        "weight = int(input(\"Enter weight: \"))"
      ],
      "execution_count": 32,
      "outputs": [
        {
          "output_type": "stream",
          "text": [
            "Enter height: 4\n",
            "Enter weight: 5\n"
          ],
          "name": "stdout"
        }
      ]
    },
    {
      "cell_type": "code",
      "metadata": {
        "id": "U_cwsrMdaTQh",
        "outputId": "801dbcb1-edbb-41af-a27d-77eafc6c303d",
        "colab": {
          "base_uri": "https://localhost:8080/"
        }
      },
      "source": [
        "BMI = weight/(height**2)\n",
        "print(\"Your BMI is: \",BMI)"
      ],
      "execution_count": 33,
      "outputs": [
        {
          "output_type": "stream",
          "text": [
            "Your BMI is:  0.3125\n"
          ],
          "name": "stdout"
        }
      ]
    },
    {
      "cell_type": "code",
      "metadata": {
        "id": "R5iBbl39aeFF"
      },
      "source": [
        ""
      ],
      "execution_count": null,
      "outputs": []
    }
  ]
}